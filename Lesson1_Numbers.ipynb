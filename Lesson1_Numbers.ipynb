{
  "nbformat": 4,
  "nbformat_minor": 0,
  "metadata": {
    "colab": {
      "provenance": [],
      "authorship_tag": "ABX9TyPS0+pebcOFfeZlTk2F7Zgq",
      "include_colab_link": true
    },
    "kernelspec": {
      "name": "python3",
      "display_name": "Python 3"
    },
    "language_info": {
      "name": "python"
    }
  },
  "cells": [
    {
      "cell_type": "markdown",
      "metadata": {
        "id": "view-in-github",
        "colab_type": "text"
      },
      "source": [
        "<a href=\"https://colab.research.google.com/github/linoyElimeleh/practical-neural-networks-with-keras-heb/blob/main/Lesson1_Numbers.ipynb\" target=\"_parent\"><img src=\"https://colab.research.google.com/assets/colab-badge.svg\" alt=\"Open In Colab\"/></a>"
      ]
    },
    {
      "cell_type": "markdown",
      "source": [
        "כפל מטריצות"
      ],
      "metadata": {
        "id": "9-gt-O318Wpm"
      }
    },
    {
      "cell_type": "code",
      "execution_count": null,
      "metadata": {
        "colab": {
          "base_uri": "https://localhost:8080/"
        },
        "id": "FQNPIoA13ecR",
        "outputId": "eefef3ea-c3b8-4db5-e0dc-94d5194b59dd"
      },
      "outputs": [
        {
          "output_type": "stream",
          "name": "stdout",
          "text": [
            "[[1 2 3]\n",
            " [4 5 6]]\n"
          ]
        }
      ],
      "source": [
        "import numpy as np\n",
        "a= np.array([[1,2,3],[4,5,6]])\n",
        "print(a)"
      ]
    },
    {
      "cell_type": "code",
      "source": [
        "b= np.array([[1,2],[3,4],[5,6]])\n",
        "print(b)"
      ],
      "metadata": {
        "colab": {
          "base_uri": "https://localhost:8080/"
        },
        "id": "F5h_ZrXO5T6X",
        "outputId": "f8213021-4b9e-456a-c5fc-3d9e5efc0bff"
      },
      "execution_count": null,
      "outputs": [
        {
          "output_type": "stream",
          "name": "stdout",
          "text": [
            "[[1 2]\n",
            " [3 4]\n",
            " [5 6]]\n"
          ]
        }
      ]
    },
    {
      "cell_type": "code",
      "source": [
        "c= a.dot(b)\n",
        "print(c)"
      ],
      "metadata": {
        "colab": {
          "base_uri": "https://localhost:8080/"
        },
        "id": "UwlCtFG55kV-",
        "outputId": "b215e965-eda5-4c28-c79a-7185237ed2d5"
      },
      "execution_count": null,
      "outputs": [
        {
          "output_type": "stream",
          "name": "stdout",
          "text": [
            "[[22 28]\n",
            " [49 64]]\n"
          ]
        }
      ]
    },
    {
      "cell_type": "code",
      "source": [
        "import numpy as np\n",
        "a= np.array([[1,2,3],[4,5,6]])\n",
        "print(a)\n",
        "b= np.array([[1,2],[3,4],[5,6]])\n",
        "print(b)\n",
        "c= a.dot(b)\n",
        "print(c)"
      ],
      "metadata": {
        "colab": {
          "base_uri": "https://localhost:8080/"
        },
        "id": "SEC3kv4n50Ek",
        "outputId": "0e84602c-1a10-428d-84f2-b4a65dcee9e3"
      },
      "execution_count": null,
      "outputs": [
        {
          "output_type": "stream",
          "name": "stdout",
          "text": [
            "[[1 2 3]\n",
            " [4 5 6]]\n",
            "[[1 2]\n",
            " [3 4]\n",
            " [5 6]]\n",
            "[[22 28]\n",
            " [49 64]]\n"
          ]
        }
      ]
    },
    {
      "cell_type": "markdown",
      "source": [
        "חיבור מטריצות"
      ],
      "metadata": {
        "id": "Sxq0_rEI8an8"
      }
    },
    {
      "cell_type": "code",
      "source": [
        "a= np.array([[1,2],[3,4],[5,6]])\n",
        "print(a)\n",
        "b= np.array([[11,12],[13,14],[15,16]])\n",
        "print(b)\n",
        "\n",
        "c=a+b\n",
        "print(c)"
      ],
      "metadata": {
        "colab": {
          "base_uri": "https://localhost:8080/"
        },
        "id": "t0UxB8Ar7pkk",
        "outputId": "bd7db12d-807d-48ea-fd4b-11e56aff2acb"
      },
      "execution_count": null,
      "outputs": [
        {
          "output_type": "stream",
          "name": "stdout",
          "text": [
            "[[1 2]\n",
            " [3 4]\n",
            " [5 6]]\n",
            "[[11 12]\n",
            " [13 14]\n",
            " [15 16]]\n",
            "[[12 14]\n",
            " [16 18]\n",
            " [20 22]]\n"
          ]
        }
      ]
    },
    {
      "cell_type": "markdown",
      "source": [
        "טרנספוז"
      ],
      "metadata": {
        "id": "jlnJu6Eq8dUC"
      }
    },
    {
      "cell_type": "code",
      "source": [
        "a= np.array([[1,2,3],[4,5,6]])\n",
        "print(a)\n",
        "b=a.T\n",
        "print(b)"
      ],
      "metadata": {
        "colab": {
          "base_uri": "https://localhost:8080/"
        },
        "id": "uf9YYZZF7qJL",
        "outputId": "a9fd3407-2f69-4b5a-aa5a-d87e2f07e98f"
      },
      "execution_count": null,
      "outputs": [
        {
          "output_type": "stream",
          "name": "stdout",
          "text": [
            "[[1 2 3]\n",
            " [4 5 6]]\n",
            "[[1 4]\n",
            " [2 5]\n",
            " [3 6]]\n"
          ]
        }
      ]
    },
    {
      "cell_type": "markdown",
      "source": [
        "feed forward"
      ],
      "metadata": {
        "id": "0MLXQWvQ83hD"
      }
    },
    {
      "cell_type": "code",
      "source": [
        "import numpy as np\n",
        "x=np.array([[10],[7],[3]])\n",
        "print(x)"
      ],
      "metadata": {
        "colab": {
          "base_uri": "https://localhost:8080/"
        },
        "id": "7mNrPSgi84Yi",
        "outputId": "a483e07c-b101-444b-f9f4-cd48120aa224"
      },
      "execution_count": null,
      "outputs": [
        {
          "output_type": "stream",
          "name": "stdout",
          "text": [
            "[[10]\n",
            " [ 7]\n",
            " [ 3]]\n"
          ]
        }
      ]
    },
    {
      "cell_type": "code",
      "source": [
        "w1=np.zeros((2,3))\n",
        "w1[0]=[-7,4,14]\n",
        "w1[1]=[4,-6,3]\n",
        "print(w1)"
      ],
      "metadata": {
        "colab": {
          "base_uri": "https://localhost:8080/"
        },
        "id": "cJOXa5Gx-veD",
        "outputId": "e576ac57-ae4b-4285-f17a-147e922c429b"
      },
      "execution_count": null,
      "outputs": [
        {
          "output_type": "stream",
          "name": "stdout",
          "text": [
            "[[-7.  4. 14.]\n",
            " [ 4. -6.  3.]]\n"
          ]
        }
      ]
    },
    {
      "cell_type": "code",
      "source": [
        "# ouput vector\n",
        "u=w1.dot(x)\n",
        "print(u)"
      ],
      "metadata": {
        "colab": {
          "base_uri": "https://localhost:8080/"
        },
        "id": "q8wNxV-N-vt-",
        "outputId": "eadcea2c-e229-4e96-daa7-d4cbdbc6134d"
      },
      "execution_count": null,
      "outputs": [
        {
          "output_type": "stream",
          "name": "stdout",
          "text": [
            "[[0.]\n",
            " [7.]]\n"
          ]
        }
      ]
    },
    {
      "cell_type": "code",
      "source": [
        "# bias\n",
        "b=np.array([-0.6,-0.3])\n",
        "print(b)"
      ],
      "metadata": {
        "colab": {
          "base_uri": "https://localhost:8080/"
        },
        "id": "-3rvIEks-v7S",
        "outputId": "bc90aec3-5a1a-42e1-89d2-49404738136f"
      },
      "execution_count": null,
      "outputs": [
        {
          "output_type": "stream",
          "name": "stdout",
          "text": [
            "[-0.6 -0.3]\n"
          ]
        }
      ]
    },
    {
      "cell_type": "code",
      "source": [
        "# reshape to a metrics\n",
        "b=np.reshape(b,(1,2))\n",
        "print(b)"
      ],
      "metadata": {
        "colab": {
          "base_uri": "https://localhost:8080/"
        },
        "id": "k0xIGWQ4-5qx",
        "outputId": "9c1ed658-19f7-4d99-c554-0ec6e756ac69"
      },
      "execution_count": null,
      "outputs": [
        {
          "output_type": "stream",
          "name": "stdout",
          "text": [
            "[[-0.6 -0.3]]\n"
          ]
        }
      ]
    },
    {
      "cell_type": "code",
      "source": [
        "# transpose to ouput\n",
        "b=b.T\n",
        "print(b)"
      ],
      "metadata": {
        "colab": {
          "base_uri": "https://localhost:8080/"
        },
        "id": "CK57evPH-55Y",
        "outputId": "f1b2262b-a1af-413a-809b-6a8d00efdc64"
      },
      "execution_count": null,
      "outputs": [
        {
          "output_type": "stream",
          "name": "stdout",
          "text": [
            "[[-0.6]\n",
            " [-0.3]]\n"
          ]
        }
      ]
    },
    {
      "cell_type": "code",
      "source": [
        "# adding the sum to the bias\n",
        "z1=u+b\n",
        "print(z1)"
      ],
      "metadata": {
        "colab": {
          "base_uri": "https://localhost:8080/"
        },
        "id": "V3lA3qPL-6TN",
        "outputId": "b697ff90-8632-4eb2-8dc9-893e94011600"
      },
      "execution_count": null,
      "outputs": [
        {
          "output_type": "stream",
          "name": "stdout",
          "text": [
            "[[-0.6]\n",
            " [ 6.7]]\n"
          ]
        }
      ]
    },
    {
      "cell_type": "code",
      "source": [
        "# sigmoid\n",
        "def sigmoid(x):\n",
        "    return 1.0/(1.0+np.exp(-x))\n",
        "\n",
        "a1=sigmoid(z1)\n",
        "print(a1)"
      ],
      "metadata": {
        "colab": {
          "base_uri": "https://localhost:8080/"
        },
        "id": "u1fGf-7M_YC4",
        "outputId": "f4ce8aeb-cf1e-4624-b37f-d11fe39caffb"
      },
      "execution_count": null,
      "outputs": [
        {
          "output_type": "stream",
          "name": "stdout",
          "text": [
            "[[0.35434369]\n",
            " [0.9987706 ]]\n"
          ]
        }
      ]
    },
    {
      "cell_type": "code",
      "source": [
        "w2=np.array([[4,5]])\n",
        "print(w2)"
      ],
      "metadata": {
        "colab": {
          "base_uri": "https://localhost:8080/"
        },
        "id": "dIiJlBMK_YWG",
        "outputId": "b6d6623b-75ee-4c09-b791-9d99b2777647"
      },
      "execution_count": null,
      "outputs": [
        {
          "output_type": "stream",
          "name": "stdout",
          "text": [
            "[[4 5]]\n"
          ]
        }
      ]
    },
    {
      "cell_type": "code",
      "source": [
        "u2=w2.dot(a1)\n",
        "print(u2)"
      ],
      "metadata": {
        "colab": {
          "base_uri": "https://localhost:8080/"
        },
        "id": "kWTGEDz8_YkR",
        "outputId": "5f74d300-ff0e-4791-8f18-c4e502b99166"
      },
      "execution_count": null,
      "outputs": [
        {
          "output_type": "stream",
          "name": "stdout",
          "text": [
            "[[6.41122778]]\n"
          ]
        }
      ]
    },
    {
      "cell_type": "code",
      "source": [
        "b2=np.array([[-6]])\n",
        "print(b2)"
      ],
      "metadata": {
        "colab": {
          "base_uri": "https://localhost:8080/"
        },
        "id": "A2Zw7srF_Yzv",
        "outputId": "9fa49178-430e-4e24-aa5f-4ba23603c9f8"
      },
      "execution_count": null,
      "outputs": [
        {
          "output_type": "stream",
          "name": "stdout",
          "text": [
            "[[-6]]\n"
          ]
        }
      ]
    },
    {
      "cell_type": "code",
      "source": [
        "z2=u2+b2\n",
        "print(z2)"
      ],
      "metadata": {
        "colab": {
          "base_uri": "https://localhost:8080/"
        },
        "id": "V6AO7Tay_l1X",
        "outputId": "bda7a735-cbf3-48f8-944a-d76a8a217a74"
      },
      "execution_count": null,
      "outputs": [
        {
          "output_type": "stream",
          "name": "stdout",
          "text": [
            "[[0.41122778]]\n"
          ]
        }
      ]
    },
    {
      "cell_type": "code",
      "source": [
        "a2=sigmoid(z2)\n",
        "print(a2)"
      ],
      "metadata": {
        "colab": {
          "base_uri": "https://localhost:8080/"
        },
        "id": "KSOdsCCh_l9-",
        "outputId": "a1b57b4a-c5de-4e83-81c1-a98334c95a24"
      },
      "execution_count": null,
      "outputs": [
        {
          "output_type": "stream",
          "name": "stdout",
          "text": [
            "[[0.60138224]]\n"
          ]
        }
      ]
    },
    {
      "cell_type": "code",
      "source": [],
      "metadata": {
        "id": "t2oHvGAq_mIS"
      },
      "execution_count": null,
      "outputs": []
    }
  ]
}